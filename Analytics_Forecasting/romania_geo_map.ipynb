{
 "cells": [
  {
   "cell_type": "code",
   "execution_count": 414,
   "metadata": {},
   "outputs": [],
   "source": [
    "import pandas as pd\n",
    "import numpy as np\n",
    "import geopandas as gdf\n",
    "import json\n",
    "import matplotlib.pyplot as plt\n",
    "import os\n",
    "import plotly.express as px\n",
    "\n",
    "import warnings\n",
    "warnings.filterwarnings('ignore')"
   ]
  },
  {
   "cell_type": "code",
   "execution_count": 415,
   "metadata": {},
   "outputs": [],
   "source": [
    "gdf.crs=\"EPSG:31700\""
   ]
  },
  {
   "cell_type": "code",
   "execution_count": 416,
   "metadata": {},
   "outputs": [],
   "source": [
    "import folium\n",
    "from folium import Choropleth, Circle, Marker\n",
    "from folium.plugins import HeatMap, MarkerCluster"
   ]
  },
  {
   "cell_type": "code",
   "execution_count": 417,
   "metadata": {},
   "outputs": [
    {
     "name": "stdout",
     "output_type": "stream",
     "text": [
      "getCasesByCounty\n",
      "getHealthCasesByCounty\n",
      "getDeadCasesByCounty\n",
      "  county_code  total_county  total_healed  total_dead            county\n",
      "0          SV          2581             4         151           SUCEAVA\n",
      "1          NA          1238             0           0  JUDEȚ NECUNOSCUT\n",
      "2           B          1041             3          52         BUCUREȘTI\n",
      "3          HD           506             3          58         HUNEDOARA\n",
      "4          AR           504             1          60              ARAD \n",
      "\n",
      "  county_code  total_county         county\n",
      "0          TM             4          TIMIȘ\n",
      "1          SV             4        SUCEAVA\n",
      "2          CS             4  CARAȘ-SEVERIN\n",
      "3           B             3      BUCUREȘTI\n",
      "4          HD             3      HUNEDOARA \n",
      "\n",
      "  county_code  total_county     county\n",
      "0          SV           151    SUCEAVA\n",
      "1          AR            60       ARAD\n",
      "2          HD            58  HUNEDOARA\n",
      "3          GL            55     GALAȚI\n",
      "4           B            52  BUCUREȘTI \n",
      "\n"
     ]
    }
   ],
   "source": [
    "home_path=\"/home/Github/COVID-19_Interactive/infra_code/\"\n",
    "file_list=[]\n",
    "for file in os.listdir(home_path):\n",
    "    if \"ByCounty\" in file:\n",
    "        print(file)\n",
    "        file_list.append(file)\n",
    "\n",
    "df_list=[]\n",
    "for f in file_list:\n",
    "    d=os.path.join(home_path,f)\n",
    "    d_dict=pd.read_json(d)['data'][0]\n",
    "    df=pd.DataFrame(d_dict)\n",
    "    df_list.append(df)\n",
    "\n",
    "df1,df2,df3=df_list[0],df_list[1],df_list[2]\n",
    "for d in df_list:\n",
    "    print(d.head(),\"\\n\")"
   ]
  },
  {
   "cell_type": "markdown",
   "metadata": {},
   "source": [
    "### Load json ref:\n",
    "\n",
    "\n",
    "https://stackoverflow.com/questions/49505872/read-json-to-pandas-dataframe-valueerror-mixing-dicts-with-non-series-may-lea#49505918"
   ]
  },
  {
   "cell_type": "code",
   "execution_count": 418,
   "metadata": {},
   "outputs": [],
   "source": [
    "world=gdf.read_file(gdf.datasets.get_path('naturalearth_lowres'))\n",
    "ro_bound=world[world['name']=='Romania']"
   ]
  },
  {
   "cell_type": "code",
   "execution_count": 419,
   "metadata": {},
   "outputs": [
    {
     "data": {
      "text/html": [
       "<div>\n",
       "<style scoped>\n",
       "    .dataframe tbody tr th:only-of-type {\n",
       "        vertical-align: middle;\n",
       "    }\n",
       "\n",
       "    .dataframe tbody tr th {\n",
       "        vertical-align: top;\n",
       "    }\n",
       "\n",
       "    .dataframe thead th {\n",
       "        text-align: right;\n",
       "    }\n",
       "</style>\n",
       "<table border=\"1\" class=\"dataframe\">\n",
       "  <thead>\n",
       "    <tr style=\"text-align: right;\">\n",
       "      <th></th>\n",
       "      <th>id</th>\n",
       "      <th>ID_0</th>\n",
       "      <th>ISO</th>\n",
       "      <th>NAME_0</th>\n",
       "      <th>ID_1</th>\n",
       "      <th>NAME_1</th>\n",
       "      <th>TYPE_1</th>\n",
       "      <th>ENGTYPE_1</th>\n",
       "      <th>NL_NAME_1</th>\n",
       "      <th>VARNAME_1</th>\n",
       "      <th>geometry</th>\n",
       "    </tr>\n",
       "  </thead>\n",
       "  <tbody>\n",
       "    <tr>\n",
       "      <th>0</th>\n",
       "      <td>None</td>\n",
       "      <td>187</td>\n",
       "      <td>ROU</td>\n",
       "      <td>Romania</td>\n",
       "      <td>1</td>\n",
       "      <td>ALBA</td>\n",
       "      <td>Judet</td>\n",
       "      <td>County</td>\n",
       "      <td></td>\n",
       "      <td></td>\n",
       "      <td>POLYGON ((23.98685 46.43134, 24.00062 46.42857...</td>\n",
       "    </tr>\n",
       "    <tr>\n",
       "      <th>1</th>\n",
       "      <td>None</td>\n",
       "      <td>187</td>\n",
       "      <td>ROU</td>\n",
       "      <td>Romania</td>\n",
       "      <td>2</td>\n",
       "      <td>ARAD</td>\n",
       "      <td>Judet</td>\n",
       "      <td>County</td>\n",
       "      <td></td>\n",
       "      <td></td>\n",
       "      <td>POLYGON ((22.67806 46.40624, 22.68364 46.38616...</td>\n",
       "    </tr>\n",
       "    <tr>\n",
       "      <th>2</th>\n",
       "      <td>None</td>\n",
       "      <td>187</td>\n",
       "      <td>ROU</td>\n",
       "      <td>Romania</td>\n",
       "      <td>3</td>\n",
       "      <td>ARGEȘ</td>\n",
       "      <td>Judet</td>\n",
       "      <td>County</td>\n",
       "      <td></td>\n",
       "      <td>Arges</td>\n",
       "      <td>POLYGON ((25.32318 45.38138, 25.31835 45.37009...</td>\n",
       "    </tr>\n",
       "    <tr>\n",
       "      <th>3</th>\n",
       "      <td>None</td>\n",
       "      <td>187</td>\n",
       "      <td>ROU</td>\n",
       "      <td>Romania</td>\n",
       "      <td>4</td>\n",
       "      <td>BACĂU</td>\n",
       "      <td>Judet</td>\n",
       "      <td>County</td>\n",
       "      <td></td>\n",
       "      <td>Bacau</td>\n",
       "      <td>POLYGON ((27.20767 46.77019, 27.21251 46.76116...</td>\n",
       "    </tr>\n",
       "    <tr>\n",
       "      <th>4</th>\n",
       "      <td>None</td>\n",
       "      <td>187</td>\n",
       "      <td>ROU</td>\n",
       "      <td>Romania</td>\n",
       "      <td>5</td>\n",
       "      <td>BIHOR</td>\n",
       "      <td>Judet</td>\n",
       "      <td>County</td>\n",
       "      <td></td>\n",
       "      <td></td>\n",
       "      <td>POLYGON ((22.61443 47.33495, 22.57944 47.30558...</td>\n",
       "    </tr>\n",
       "  </tbody>\n",
       "</table>\n",
       "</div>"
      ],
      "text/plain": [
       "     id  ID_0  ISO   NAME_0  ID_1 NAME_1 TYPE_1 ENGTYPE_1 NL_NAME_1 VARNAME_1  \\\n",
       "0  None   187  ROU  Romania     1   ALBA  Judet    County                       \n",
       "1  None   187  ROU  Romania     2   ARAD  Judet    County                       \n",
       "2  None   187  ROU  Romania     3  ARGEȘ  Judet    County               Arges   \n",
       "3  None   187  ROU  Romania     4  BACĂU  Judet    County               Bacau   \n",
       "4  None   187  ROU  Romania     5  BIHOR  Judet    County                       \n",
       "\n",
       "                                            geometry  \n",
       "0  POLYGON ((23.98685 46.43134, 24.00062 46.42857...  \n",
       "1  POLYGON ((22.67806 46.40624, 22.68364 46.38616...  \n",
       "2  POLYGON ((25.32318 45.38138, 25.31835 45.37009...  \n",
       "3  POLYGON ((27.20767 46.77019, 27.21251 46.76116...  \n",
       "4  POLYGON ((22.61443 47.33495, 22.57944 47.30558...  "
      ]
     },
     "execution_count": 419,
     "metadata": {},
     "output_type": "execute_result"
    }
   ],
   "source": [
    "ro_map1=gdf.read_file('romania-counties.json')\n",
    "ro_map1['NAME_1']=ro_map1['NAME_1'].str.upper()\n",
    "ro_map1.head()"
   ]
  },
  {
   "cell_type": "code",
   "execution_count": 420,
   "metadata": {},
   "outputs": [],
   "source": [
    "c=0\n",
    "for d in df_list:\n",
    "    d=d.merge(ro_map1,left_on=\"county\",right_on=\"NAME_1\")\n",
    "    df_list[c]=d\n",
    "    c+=1\n",
    "\n",
    "df1,df2,df3=df_list[0],df_list[1],df_list[2]"
   ]
  },
  {
   "cell_type": "code",
   "execution_count": 421,
   "metadata": {},
   "outputs": [
    {
     "data": {
      "text/html": [
       "<div>\n",
       "<style scoped>\n",
       "    .dataframe tbody tr th:only-of-type {\n",
       "        vertical-align: middle;\n",
       "    }\n",
       "\n",
       "    .dataframe tbody tr th {\n",
       "        vertical-align: top;\n",
       "    }\n",
       "\n",
       "    .dataframe thead th {\n",
       "        text-align: right;\n",
       "    }\n",
       "</style>\n",
       "<table border=\"1\" class=\"dataframe\">\n",
       "  <thead>\n",
       "    <tr style=\"text-align: right;\">\n",
       "      <th></th>\n",
       "      <th>county_code</th>\n",
       "      <th>total_healed</th>\n",
       "      <th>total_dead</th>\n",
       "      <th>county</th>\n",
       "      <th>geometry</th>\n",
       "    </tr>\n",
       "  </thead>\n",
       "  <tbody>\n",
       "    <tr>\n",
       "      <th>0</th>\n",
       "      <td>SV</td>\n",
       "      <td>4</td>\n",
       "      <td>151</td>\n",
       "      <td>SUCEAVA</td>\n",
       "      <td>POLYGON ((26.70268 47.47175, 26.68184 47.45694...</td>\n",
       "    </tr>\n",
       "    <tr>\n",
       "      <th>1</th>\n",
       "      <td>HD</td>\n",
       "      <td>3</td>\n",
       "      <td>58</td>\n",
       "      <td>HUNEDOARA</td>\n",
       "      <td>POLYGON ((23.59946 45.47275, 23.59686 45.45267...</td>\n",
       "    </tr>\n",
       "    <tr>\n",
       "      <th>2</th>\n",
       "      <td>AR</td>\n",
       "      <td>1</td>\n",
       "      <td>60</td>\n",
       "      <td>ARAD</td>\n",
       "      <td>POLYGON ((22.67806 46.40624, 22.68364 46.38616...</td>\n",
       "    </tr>\n",
       "    <tr>\n",
       "      <th>3</th>\n",
       "      <td>BT</td>\n",
       "      <td>0</td>\n",
       "      <td>33</td>\n",
       "      <td>BOTOȘANI</td>\n",
       "      <td>POLYGON ((27.39262 47.58972, 27.34833 47.57541...</td>\n",
       "    </tr>\n",
       "    <tr>\n",
       "      <th>4</th>\n",
       "      <td>BH</td>\n",
       "      <td>0</td>\n",
       "      <td>11</td>\n",
       "      <td>BIHOR</td>\n",
       "      <td>POLYGON ((22.61443 47.33495, 22.57944 47.30558...</td>\n",
       "    </tr>\n",
       "  </tbody>\n",
       "</table>\n",
       "</div>"
      ],
      "text/plain": [
       "  county_code  total_healed  total_dead     county  \\\n",
       "0          SV             4         151    SUCEAVA   \n",
       "1          HD             3          58  HUNEDOARA   \n",
       "2          AR             1          60       ARAD   \n",
       "3          BT             0          33   BOTOȘANI   \n",
       "4          BH             0          11      BIHOR   \n",
       "\n",
       "                                            geometry  \n",
       "0  POLYGON ((26.70268 47.47175, 26.68184 47.45694...  \n",
       "1  POLYGON ((23.59946 45.47275, 23.59686 45.45267...  \n",
       "2  POLYGON ((22.67806 46.40624, 22.68364 46.38616...  \n",
       "3  POLYGON ((27.39262 47.58972, 27.34833 47.57541...  \n",
       "4  POLYGON ((22.61443 47.33495, 22.57944 47.30558...  "
      ]
     },
     "execution_count": 421,
     "metadata": {},
     "output_type": "execute_result"
    }
   ],
   "source": [
    "columns_keep=['county_code','total_healed','total_dead','county','geometry']\n",
    "df=df1[columns_keep]\n",
    "df.crs = {'init': 'epsg:4326'}\n",
    "df.head()"
   ]
  },
  {
   "cell_type": "code",
   "execution_count": 422,
   "metadata": {},
   "outputs": [
    {
     "data": {
      "text/plain": [
       "<matplotlib.axes._subplots.AxesSubplot at 0x7f8f31d92090>"
      ]
     },
     "execution_count": 422,
     "metadata": {},
     "output_type": "execute_result"
    },
    {
     "data": {
      "image/png": "[encoded data removed]",
      "text/plain": [
       "<Figure size 1152x1152 with 1 Axes>"
      ]
     },
     "metadata": {
      "needs_background": "light"
     },
     "output_type": "display_data"
    }
   ],
   "source": [
    "ro_bound.plot(figsize=(16,16),color='none', edgecolor='gainsboro', zorder=3)"
   ]
  },
  {
   "cell_type": "code",
   "execution_count": 424,
   "metadata": {},
   "outputs": [
    {
     "ename": "AttributeError",
     "evalue": "'Map' object has no attribute 'geo_json'",
     "output_type": "error",
     "traceback": [
      "\u001b[0;31m---------------------------------------------------------------------------\u001b[0m",
      "\u001b[0;31mAttributeError\u001b[0m                            Traceback (most recent call last)",
      "\u001b[0;32m<ipython-input-424-2cd8d1194489>\u001b[0m in \u001b[0;36m<module>\u001b[0;34m\u001b[0m\n\u001b[1;32m      9\u001b[0m \u001b[0;31m# creation of the choropleth\u001b[0m\u001b[0;34m\u001b[0m\u001b[0;34m\u001b[0m\u001b[0;34m\u001b[0m\u001b[0m\n\u001b[1;32m     10\u001b[0m \u001b[0mmap1\u001b[0m \u001b[0;34m=\u001b[0m \u001b[0mfolium\u001b[0m\u001b[0;34m.\u001b[0m\u001b[0mMap\u001b[0m\u001b[0;34m(\u001b[0m\u001b[0mlocation\u001b[0m\u001b[0;34m=\u001b[0m\u001b[0;34m[\u001b[0m\u001b[0;36m45.988706\u001b[0m\u001b[0;34m,\u001b[0m \u001b[0;36m24.886986\u001b[0m\u001b[0;34m]\u001b[0m\u001b[0;34m,\u001b[0m \u001b[0mzoom_start\u001b[0m\u001b[0;34m=\u001b[0m\u001b[0;36m12\u001b[0m\u001b[0;34m)\u001b[0m\u001b[0;34m\u001b[0m\u001b[0;34m\u001b[0m\u001b[0m\n\u001b[0;32m---> 11\u001b[0;31m map1.geo_json(geo_path = data_geo, \n\u001b[0m\u001b[1;32m     12\u001b[0m               \u001b[0mdata_out\u001b[0m \u001b[0;34m=\u001b[0m \u001b[0;34m'total_dead.json'\u001b[0m\u001b[0;34m,\u001b[0m\u001b[0;34m\u001b[0m\u001b[0;34m\u001b[0m\u001b[0m\n\u001b[1;32m     13\u001b[0m               \u001b[0mdata\u001b[0m \u001b[0;34m=\u001b[0m \u001b[0mdf\u001b[0m\u001b[0;34m,\u001b[0m\u001b[0;34m\u001b[0m\u001b[0;34m\u001b[0m\u001b[0m\n",
      "\u001b[0;31mAttributeError\u001b[0m: 'Map' object has no attribute 'geo_json'"
     ]
    }
   ],
   "source": [
    "data_geo = gdf.read_file('romania-counties.json')\n",
    "  \n",
    "# calculating total number of incidents per district\n",
    "data = df['total_dead']\n",
    "data.to_json('total_dead.json')\n",
    "data= data.reset_index()\n",
    "data.columns = ['county', 'total_dead']\n",
    "  \n",
    "# creation of the choropleth\n",
    "map1 = folium.Map(location=[45.988706, 24.886986], zoom_start=12)\n",
    "map1.geo_json(geo_path = data_geo, \n",
    "              data_out = 'total_dead.json', \n",
    "              data = df,\n",
    "              columns = ['county', 'total_dead'],\n",
    "              key_on = 'feature.properties.county',\n",
    "              fill_color = 'YlOrRd', \n",
    "              fill_opacity = 0.7, \n",
    "              line_opacity = 0.2,\n",
    "              legend_name = 'Number of incidents per district')\n",
    "               \n",
    "display(map1)"
   ]
  },
  {
   "cell_type": "code",
   "execution_count": null,
   "metadata": {},
   "outputs": [],
   "source": []
  }
 ],
 "metadata": {
  "hide_input": false,
  "kernelspec": {
   "display_name": "Python 3",
   "language": "python",
   "name": "python3"
  },
  "language_info": {
   "codemirror_mode": {
    "name": "ipython",
    "version": 3
   },
   "file_extension": ".py",
   "mimetype": "text/x-python",
   "name": "python",
   "nbconvert_exporter": "python",
   "pygments_lexer": "ipython3",
   "version": "3.7.6"
  }
 },
 "nbformat": 4,
 "nbformat_minor": 4
}
