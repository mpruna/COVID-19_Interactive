{
 "cells": [
  {
   "cell_type": "code",
   "execution_count": 17,
   "metadata": {},
   "outputs": [],
   "source": [
    "import pandas as pd\n",
    "import numpy as np\n",
    "import geopandas as gdf\n",
    "import matplotlib.pyplot as plt\n",
    "import os\n",
    "import plotly.express as px\n",
    "\n",
    "import warnings\n",
    "warnings.filterwarnings('ignore')"
   ]
  },
  {
   "cell_type": "code",
   "execution_count": 18,
   "metadata": {},
   "outputs": [],
   "source": [
    "world=gdf.read_file(gdf.datasets.get_path('naturalearth_lowres'))\n",
    "world.head()\n",
    "\n",
    "data=world[world['continent']==\"Europe\"]"
   ]
  },
  {
   "cell_type": "code",
   "execution_count": 19,
   "metadata": {},
   "outputs": [
    {
     "data": {
      "text/html": [
       "<div>\n",
       "<style scoped>\n",
       "    .dataframe tbody tr th:only-of-type {\n",
       "        vertical-align: middle;\n",
       "    }\n",
       "\n",
       "    .dataframe tbody tr th {\n",
       "        vertical-align: top;\n",
       "    }\n",
       "\n",
       "    .dataframe thead th {\n",
       "        text-align: right;\n",
       "    }\n",
       "</style>\n",
       "<table border=\"1\" class=\"dataframe\">\n",
       "  <thead>\n",
       "    <tr style=\"text-align: right;\">\n",
       "      <th></th>\n",
       "      <th>pop_est</th>\n",
       "      <th>continent</th>\n",
       "      <th>name</th>\n",
       "      <th>iso_a3</th>\n",
       "      <th>gdp_md_est</th>\n",
       "      <th>geometry</th>\n",
       "    </tr>\n",
       "  </thead>\n",
       "  <tbody>\n",
       "    <tr>\n",
       "      <th>18</th>\n",
       "      <td>142257519</td>\n",
       "      <td>Europe</td>\n",
       "      <td>Russia</td>\n",
       "      <td>RUS</td>\n",
       "      <td>3745000.0</td>\n",
       "      <td>MULTIPOLYGON (((178.725 71.099, 180.000 71.516...</td>\n",
       "    </tr>\n",
       "    <tr>\n",
       "      <th>21</th>\n",
       "      <td>5320045</td>\n",
       "      <td>Europe</td>\n",
       "      <td>Norway</td>\n",
       "      <td>-99</td>\n",
       "      <td>364700.0</td>\n",
       "      <td>MULTIPOLYGON (((15.143 79.674, 15.523 80.016, ...</td>\n",
       "    </tr>\n",
       "    <tr>\n",
       "      <th>43</th>\n",
       "      <td>67106161</td>\n",
       "      <td>Europe</td>\n",
       "      <td>France</td>\n",
       "      <td>-99</td>\n",
       "      <td>2699000.0</td>\n",
       "      <td>MULTIPOLYGON (((-51.658 4.156, -52.249 3.241, ...</td>\n",
       "    </tr>\n",
       "    <tr>\n",
       "      <th>110</th>\n",
       "      <td>9960487</td>\n",
       "      <td>Europe</td>\n",
       "      <td>Sweden</td>\n",
       "      <td>SWE</td>\n",
       "      <td>498100.0</td>\n",
       "      <td>POLYGON ((11.027 58.856, 11.468 59.432, 12.300...</td>\n",
       "    </tr>\n",
       "    <tr>\n",
       "      <th>111</th>\n",
       "      <td>9549747</td>\n",
       "      <td>Europe</td>\n",
       "      <td>Belarus</td>\n",
       "      <td>BLR</td>\n",
       "      <td>165400.0</td>\n",
       "      <td>POLYGON ((28.177 56.169, 29.230 55.918, 29.372...</td>\n",
       "    </tr>\n",
       "  </tbody>\n",
       "</table>\n",
       "</div>"
      ],
      "text/plain": [
       "       pop_est continent     name iso_a3  gdp_md_est  \\\n",
       "18   142257519    Europe   Russia    RUS   3745000.0   \n",
       "21     5320045    Europe   Norway    -99    364700.0   \n",
       "43    67106161    Europe   France    -99   2699000.0   \n",
       "110    9960487    Europe   Sweden    SWE    498100.0   \n",
       "111    9549747    Europe  Belarus    BLR    165400.0   \n",
       "\n",
       "                                              geometry  \n",
       "18   MULTIPOLYGON (((178.725 71.099, 180.000 71.516...  \n",
       "21   MULTIPOLYGON (((15.143 79.674, 15.523 80.016, ...  \n",
       "43   MULTIPOLYGON (((-51.658 4.156, -52.249 3.241, ...  \n",
       "110  POLYGON ((11.027 58.856, 11.468 59.432, 12.300...  \n",
       "111  POLYGON ((28.177 56.169, 29.230 55.918, 29.372...  "
      ]
     },
     "execution_count": 19,
     "metadata": {},
     "output_type": "execute_result"
    }
   ],
   "source": [
    "data.head()"
   ]
  },
  {
   "cell_type": "code",
   "execution_count": 20,
   "metadata": {},
   "outputs": [],
   "source": [
    "countries=data['name'].unique()"
   ]
  },
  {
   "cell_type": "code",
   "execution_count": 21,
   "metadata": {},
   "outputs": [],
   "source": [
    "info_path = os.path.join(os.path.dirname(os.getcwd()),\"COVID-19/csse_covid_19_data/csse_covid_19_daily_reports\")"
   ]
  },
  {
   "cell_type": "code",
   "execution_count": 13,
   "metadata": {},
   "outputs": [],
   "source": [
    "all_files = []\n",
    "for csv_file in os.listdir(info_path):\n",
    "    if not csv_file.strip().endswith(\".csv\"): continue\n",
    "    all_files.append(csv_file)\n",
    "    \n",
    "all_files = sorted(all_files)\n",
    "for csv_file in all_files:\n",
    "    if not csv_file.strip().endswith(\".csv\"): continue\n",
    "    full_path = os.path.join(info_path, csv_file)\n",
    "    df = pd.read_csv(full_path)"
   ]
  },
  {
   "cell_type": "code",
   "execution_count": 16,
   "metadata": {},
   "outputs": [
    {
     "ename": "NameError",
     "evalue": "name 'contour' is not defined",
     "output_type": "error",
     "traceback": [
      "\u001b[0;31m---------------------------------------------------------------------------\u001b[0m",
      "\u001b[0;31mNameError\u001b[0m                                 Traceback (most recent call last)",
      "\u001b[0;32m<ipython-input-16-512c357c5b75>\u001b[0m in \u001b[0;36m<module>\u001b[0;34m\u001b[0m\n\u001b[1;32m      5\u001b[0m \u001b[0;34m\u001b[0m\u001b[0m\n\u001b[1;32m      6\u001b[0m \u001b[0;34m\u001b[0m\u001b[0m\n\u001b[0;32m----> 7\u001b[0;31m \u001b[0mmerged\u001b[0m\u001b[0;34m=\u001b[0m\u001b[0meu_df\u001b[0m\u001b[0;34m.\u001b[0m\u001b[0mmerge\u001b[0m\u001b[0;34m(\u001b[0m\u001b[0mcontour\u001b[0m\u001b[0;34m,\u001b[0m \u001b[0mright_on\u001b[0m\u001b[0;34m=\u001b[0m\u001b[0;34m'name'\u001b[0m\u001b[0;34m,\u001b[0m\u001b[0mleft_on\u001b[0m\u001b[0;34m=\u001b[0m\u001b[0;34m'Country_Region'\u001b[0m\u001b[0;34m)\u001b[0m\u001b[0;34m\u001b[0m\u001b[0;34m\u001b[0m\u001b[0m\n\u001b[0m\u001b[1;32m      8\u001b[0m \u001b[0mmerged\u001b[0m\u001b[0;34m.\u001b[0m\u001b[0mhead\u001b[0m\u001b[0;34m(\u001b[0m\u001b[0;34m)\u001b[0m\u001b[0;34m\u001b[0m\u001b[0;34m\u001b[0m\u001b[0m\n",
      "\u001b[0;31mNameError\u001b[0m: name 'contour' is not defined"
     ]
    }
   ],
   "source": [
    "df['Last_Update']=pd.to_datetime(df['Last_Update'])\n",
    "df.sort_values(by=['Last_Update'],ascending=False).head()\n",
    "eu_df=df[df['Combined_Key'].isin(countries)]\n",
    "eu_df=eu_df.loc[:,['Confirmed','Deaths','Recovered','Country_Region']]\n",
    "\n",
    "\n",
    "merged=eu_df.merge(contour, right_on='name',left_on='Country_Region')\n",
    "merged.head()"
   ]
  },
  {
   "cell_type": "code",
   "execution_count": 15,
   "metadata": {},
   "outputs": [
    {
     "ename": "NameError",
     "evalue": "name 'merged' is not defined",
     "output_type": "error",
     "traceback": [
      "\u001b[0;31m---------------------------------------------------------------------------\u001b[0m",
      "\u001b[0;31mNameError\u001b[0m                                 Traceback (most recent call last)",
      "\u001b[0;32m<ipython-input-15-5462ed1fde53>\u001b[0m in \u001b[0;36m<module>\u001b[0;34m\u001b[0m\n\u001b[0;32m----> 1\u001b[0;31m \u001b[0mmerged\u001b[0m\u001b[0;34m[\u001b[0m\u001b[0;34m'iso_a3'\u001b[0m\u001b[0;34m]\u001b[0m\u001b[0;34m.\u001b[0m\u001b[0miloc\u001b[0m\u001b[0;34m[\u001b[0m\u001b[0;36m10\u001b[0m\u001b[0;34m]\u001b[0m\u001b[0;34m=\u001b[0m\u001b[0;34m'FRA'\u001b[0m\u001b[0;34m\u001b[0m\u001b[0;34m\u001b[0m\u001b[0m\n\u001b[0m\u001b[1;32m      2\u001b[0m \u001b[0mmerged\u001b[0m\u001b[0;34m[\u001b[0m\u001b[0;34m'iso_a3'\u001b[0m\u001b[0;34m]\u001b[0m\u001b[0;34m.\u001b[0m\u001b[0miloc\u001b[0m\u001b[0;34m[\u001b[0m\u001b[0;36m17\u001b[0m\u001b[0;34m]\u001b[0m\u001b[0;34m=\u001b[0m\u001b[0;34m'UNK'\u001b[0m\u001b[0;34m\u001b[0m\u001b[0;34m\u001b[0m\u001b[0m\n\u001b[1;32m      3\u001b[0m \u001b[0mmerged\u001b[0m\u001b[0;34m[\u001b[0m\u001b[0;34m'iso_a3'\u001b[0m\u001b[0;34m]\u001b[0m\u001b[0;34m.\u001b[0m\u001b[0miloc\u001b[0m\u001b[0;34m[\u001b[0m\u001b[0;36m24\u001b[0m\u001b[0;34m]\u001b[0m\u001b[0;34m=\u001b[0m\u001b[0;34m'NOR'\u001b[0m\u001b[0;34m\u001b[0m\u001b[0;34m\u001b[0m\u001b[0m\n",
      "\u001b[0;31mNameError\u001b[0m: name 'merged' is not defined"
     ]
    }
   ],
   "source": [
    "merged['iso_a3'].iloc[10]='FRA'\n",
    "merged['iso_a3'].iloc[17]='UNK'\n",
    "merged['iso_a3'].iloc[24]='NOR'"
   ]
  },
  {
   "cell_type": "code",
   "execution_count": null,
   "metadata": {},
   "outputs": [],
   "source": [
    "def plot(cases,title):\n",
    "    fig = px.choropleth(merged, locations=\"iso_a3\",\n",
    "                        scope=\"europe\",\n",
    "                        color=cases,\n",
    "                        hover_name=\"name\",\n",
    "                        color_continuous_scale=px.colors.sequential.Plasma)\n",
    "    #fig.update_layout(width=900,margin={\"r\":0,\"t\":0,\"l\":0,\"b\":0})\n",
    "    fig.update_layout(width=900, height=800,\n",
    "                        title_text=title,\n",
    "                        title_x=0.5,\n",
    "                        font_family='BalO',\n",
    "                        coloraxis=dict(colorscale='Portland',\n",
    "                                       showscale=False),\n",
    "                        mapbox = dict(center= dict(lat=55.499998,lon=17.3833318),\n",
    "                        zoom=2.55),\n",
    "                        margin={\"r\":0,\"t\":0,\"l\":0,\"b\":0}                \n",
    "                        )\n",
    "    fig.show()"
   ]
  },
  {
   "cell_type": "code",
   "execution_count": null,
   "metadata": {},
   "outputs": [],
   "source": [
    "cases=\"Confirmed\"\n",
    "title='Confirmed COVID-19 cases'\n",
    "plot(cases,title)"
   ]
  },
  {
   "cell_type": "code",
   "execution_count": null,
   "metadata": {},
   "outputs": [],
   "source": [
    "cases=\"Deaths\"\n",
    "title='Europe - March 21, 2020 <br>Deaths COVID-19 cases'\n",
    "plot(cases,title)"
   ]
  },
  {
   "cell_type": "code",
   "execution_count": null,
   "metadata": {},
   "outputs": [],
   "source": [
    "cases=\"Recovered\"\n",
    "title='Europe - March 21, 2020 <br>Confirmed COVID-19 cases'\n",
    "plot(cases,title)"
   ]
  },
  {
   "cell_type": "markdown",
   "metadata": {},
   "source": [
    "### GEOPANDAS | BELOW UNDER CONSTRUCTION"
   ]
  },
  {
   "cell_type": "code",
   "execution_count": null,
   "metadata": {},
   "outputs": [],
   "source": [
    "data.crs=\"EPSG:2176\""
   ]
  },
  {
   "cell_type": "markdown",
   "metadata": {},
   "source": [
    "### Focus map on continental Europe\n",
    "\n",
    "* Make the map smaller by exluding countries at the edge of the projection\n",
    "* Remove **Rusia|Norway|Belarus|Ukraine**"
   ]
  },
  {
   "cell_type": "code",
   "execution_count": null,
   "metadata": {},
   "outputs": [],
   "source": [
    "'''\n",
    "countries=data['name'].unique().tolist()\n",
    "for idx in [0,1,4,5]:\n",
    "    del countries[idx]\n",
    "'''"
   ]
  },
  {
   "cell_type": "markdown",
   "metadata": {},
   "source": [
    "### Map contour"
   ]
  },
  {
   "cell_type": "code",
   "execution_count": null,
   "metadata": {},
   "outputs": [],
   "source": [
    "contour=data[data['name'].isin(countries)]"
   ]
  },
  {
   "cell_type": "code",
   "execution_count": null,
   "metadata": {},
   "outputs": [],
   "source": [
    "contour.head()"
   ]
  },
  {
   "cell_type": "code",
   "execution_count": null,
   "metadata": {},
   "outputs": [],
   "source": [
    "contour.plot(figsize=(15,15), color='none', edgecolor='black', zorder=3)"
   ]
  },
  {
   "cell_type": "code",
   "execution_count": null,
   "metadata": {},
   "outputs": [],
   "source": []
  }
 ],
 "metadata": {
  "hide_input": false,
  "kernelspec": {
   "display_name": "Python 3",
   "language": "python",
   "name": "python3"
  },
  "language_info": {
   "codemirror_mode": {
    "name": "ipython",
    "version": 3
   },
   "file_extension": ".py",
   "mimetype": "text/x-python",
   "name": "python",
   "nbconvert_exporter": "python",
   "pygments_lexer": "ipython3",
   "version": "3.7.6"
  }
 },
 "nbformat": 4,
 "nbformat_minor": 4
}
