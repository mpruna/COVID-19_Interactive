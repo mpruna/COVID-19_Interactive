{
 "cells": [
  {
   "cell_type": "code",
   "execution_count": null,
   "metadata": {},
   "outputs": [],
   "source": [
    "import pandas as pd\n",
    "import numpy as np\n",
    "import os\n",
    "import sys"
   ]
  },
  {
   "cell_type": "code",
   "execution_count": null,
   "metadata": {},
   "outputs": [],
   "source": [
    "from plotly.offline import download_plotlyjs, init_notebook_mode, iplot\n",
    "import plotly.express as px\n",
    "from plotly import tools\n",
    "import plotly.graph_objs as go\n",
    "init_notebook_mode()\n",
    "config={'showLink': False,'displayModeBar': False}\n",
    "import plotly.figure_factory as ff"
   ]
  },
  {
   "cell_type": "code",
   "execution_count": null,
   "metadata": {},
   "outputs": [],
   "source": [
    "#from visualization import time_recovered, time_deaths, time_confirmed, data"
   ]
  },
  {
   "cell_type": "code",
   "execution_count": null,
   "metadata": {},
   "outputs": [],
   "source": [
    "data.rename({'Last Update': 'Date'}, axis=1, inplace=True)\n",
    "data['Date']=pd.to_datetime(data['Date'])\n",
    "data.tail()"
   ]
  },
  {
   "cell_type": "markdown",
   "metadata": {},
   "source": [
    "### Add location to datasets"
   ]
  },
  {
   "cell_type": "code",
   "execution_count": null,
   "metadata": {},
   "outputs": [],
   "source": [
    "location_data=pd.read_csv(\"/home/Github/COVID-19_Interactive/COVID-19/all_countries.csv\")\n",
    "location_data.head(3)"
   ]
  },
  {
   "cell_type": "code",
   "execution_count": null,
   "metadata": {},
   "outputs": [],
   "source": [
    "time_recovered.head(3)"
   ]
  },
  {
   "cell_type": "code",
   "execution_count": null,
   "metadata": {},
   "outputs": [],
   "source": [
    "'''\n",
    "https://chrisalbon.com/python/data_wrangling/pandas_join_merge_dataframe/\n",
    "https://pandas.pydata.org/pandas-docs/stable/reference/api/pandas.DataFrame.merge.html\n",
    "'''\n",
    "\n",
    "times_dflist=[time_recovered, time_deaths, time_confirmed, data]\n",
    "times_merged=[]\n",
    "\n",
    "for df in times_dflist:\n",
    "    df=pd.merge(location_data, df, left_on='name', right_on='Country/Region')\n",
    "    times_merged.append(df)"
   ]
  },
  {
   "cell_type": "code",
   "execution_count": null,
   "metadata": {},
   "outputs": [],
   "source": [
    "time_recovered, time_deaths, time_confirmed, data=times_merged[0], times_merged[1], times_merged[2], times_merged[3]"
   ]
  },
  {
   "cell_type": "code",
   "execution_count": null,
   "metadata": {},
   "outputs": [],
   "source": [
    "time_confirmed.head()"
   ]
  },
  {
   "cell_type": "markdown",
   "metadata": {},
   "source": [
    "### Get WorldWide averages\n",
    "\n",
    "* Exclude non counter colums from **'name'**-->**'Long'**\n",
    "* Compute averages"
   ]
  },
  {
   "cell_type": "code",
   "execution_count": null,
   "metadata": {},
   "outputs": [],
   "source": [
    "time_confirmed.columns.tolist()[:20]\n",
    "all_columns=time_confirmed.columns.tolist()\n",
    "exclude_list=all_columns[14:]"
   ]
  },
  {
   "cell_type": "code",
   "execution_count": null,
   "metadata": {},
   "outputs": [],
   "source": [
    "worldwide_mean=time_confirmed.groupby('region')[all_columns[15:]].mean()\n",
    "worldwide_sum=time_confirmed.groupby('region')[all_columns[15:]].sum()\n",
    "\n",
    "worldwide_mean"
   ]
  },
  {
   "cell_type": "code",
   "execution_count": null,
   "metadata": {
    "scrolled": true
   },
   "outputs": [],
   "source": [
    "worldwide_sum"
   ]
  },
  {
   "cell_type": "markdown",
   "metadata": {},
   "source": [
    "### Transpose confirmed cases"
   ]
  },
  {
   "cell_type": "code",
   "execution_count": null,
   "metadata": {},
   "outputs": [],
   "source": [
    "con_tran=worldwide_sum.reset_index().T\n",
    "con_tran.columns=['Africa','Americas','Asia','Europe','Oceania']\n",
    "con_tran=con_tran.iloc[1:]\n",
    "con_tran.head()"
   ]
  },
  {
   "cell_type": "markdown",
   "metadata": {},
   "source": [
    "### Plot confirmed Worldwide cases thrend(mean)"
   ]
  },
  {
   "cell_type": "code",
   "execution_count": null,
   "metadata": {},
   "outputs": [],
   "source": [
    "def plot_thrends(df,titles):\n",
    "    fig = go.Figure()\n",
    "    \n",
    "    for c in titles:\n",
    "        fig.add_trace(go.Scatter(x=df.loc[c].index.tolist(), y=df.loc[c].values.tolist(),mode='lines+markers',name=c))\n",
    "    \n",
    "    fig.show()"
   ]
  },
  {
   "cell_type": "code",
   "execution_count": null,
   "metadata": {},
   "outputs": [],
   "source": [
    "worldwide_mean.index.tolist()"
   ]
  },
  {
   "cell_type": "code",
   "execution_count": null,
   "metadata": {},
   "outputs": [],
   "source": [
    "plot_thrends(df=worldwide_mean,titles=worldwide_mean.index.tolist())"
   ]
  },
  {
   "cell_type": "markdown",
   "metadata": {},
   "source": [
    "### Plot confirmed Worldwide cases thrend(count)"
   ]
  },
  {
   "cell_type": "code",
   "execution_count": null,
   "metadata": {},
   "outputs": [],
   "source": [
    "plot_thrends(df=worldwide_sum,titles=worldwide_sum.index.tolist())"
   ]
  },
  {
   "cell_type": "markdown",
   "metadata": {},
   "source": [
    "### Get Deaths/Recovered Deltas"
   ]
  },
  {
   "cell_type": "code",
   "execution_count": null,
   "metadata": {},
   "outputs": [],
   "source": [
    "worldwideRec_mean=time_recovered.groupby('region')[all_columns[15:]].sum()\n",
    "worldwideDea_mean=time_deaths.groupby('region')[all_columns[15:]].sum()\n",
    "\n",
    "worldwideRec_mean"
   ]
  },
  {
   "cell_type": "code",
   "execution_count": null,
   "metadata": {},
   "outputs": [],
   "source": [
    "worldwideDea_mean"
   ]
  },
  {
   "cell_type": "code",
   "execution_count": null,
   "metadata": {},
   "outputs": [],
   "source": [
    "worldwideDea_mean"
   ]
  },
  {
   "cell_type": "code",
   "execution_count": null,
   "metadata": {},
   "outputs": [],
   "source": [
    "import statsmodels.api as sm"
   ]
  },
  {
   "cell_type": "code",
   "execution_count": null,
   "metadata": {},
   "outputs": [],
   "source": [
    "data.head()"
   ]
  },
  {
   "cell_type": "code",
   "execution_count": null,
   "metadata": {},
   "outputs": [],
   "source": [
    "y=data[data['region']=='Europe'].groupby('Date')['Confirmed'].sum()\n",
    "#decomposed = sm.tsa.seasonal_decompose(y, model='additive')\n",
    "y"
   ]
  },
  {
   "cell_type": "code",
   "execution_count": null,
   "metadata": {},
   "outputs": [],
   "source": [
    "data.tail()"
   ]
  },
  {
   "cell_type": "code",
   "execution_count": null,
   "metadata": {},
   "outputs": [],
   "source": []
  }
 ],
 "metadata": {
  "kernelspec": {
   "display_name": "Python 3",
   "language": "python",
   "name": "python3"
  },
  "language_info": {
   "codemirror_mode": {
    "name": "ipython",
    "version": 3
   },
   "file_extension": ".py",
   "mimetype": "text/x-python",
   "name": "python",
   "nbconvert_exporter": "python",
   "pygments_lexer": "ipython3",
   "version": "3.7.6"
  }
 },
 "nbformat": 4,
 "nbformat_minor": 4
}
